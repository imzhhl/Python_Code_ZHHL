{
 "cells": [
  {
   "cell_type": "code",
   "execution_count": null,
   "outputs": [],
   "source": [
    "# encoding: utf-8\n",
    "# 导入fluent_corba下的CORBA接口类和其他必要模块\n",
    "from fluent_corba import CORBA\n",
    "import time\n",
    "import pathlib\n",
    "import os, sys\n",
    "import subprocess\n",
    "import numpy as np \n",
    "import linecache\n",
    "import csv\n",
    "\n",
    "\n",
    "# 定义Fluent的启动位置，例如2020R1版本\n",
    "ansysPath = pathlib.Path(os.environ[\"AWP_ROOT201\"])\n",
    "fluentExe = str(ansysPath/\"fluent\"/\"ntbin\"/\"win64\"/\"fluent.exe\")\n",
    "# 定义工作目录\n",
    "workPath = pathlib.Path(r\"F:\\Fluent_Python\")\n",
    "aasFilePath = workPath/\"aaS_FluentId.txt\"\n",
    "# 服务器会话连接之前，清除工作目录下存在的aaS*.txt文件\n",
    "for file in workPath.glob(\"aaS*.txt\"): file.unlink()\n",
    "# 启动线程调用Fluent软件\n",
    "fluentProcess = subprocess.Popen(f'\"{fluentExe}\" 2ddp -aas',\n",
    "                                 shell=True, cwd=str(workPath))\n",
    "# 监控aaS_FluentId.txt文件生成，等待corba连接\n",
    "while True:\n",
    "    try:\n",
    "        if not aasFilePath.exists():\n",
    "            time.sleep(0.2)\n",
    "            continue\n",
    "        else:\n",
    "            if \"IOR:\" in aasFilePath.open(\"r\").read():\n",
    "                break\n",
    "    except KeyboardInterrupt: sys.exit()\n",
    "# 初始化orb环境\n",
    "orb = CORBA.ORB_init()\n",
    "# 获得fluent服务器会话实例\n",
    "fluentUnit = orb.string_to_object(aasFilePath.open(\"r\").read())\n",
    "# 获得scheme脚本控制器实例\n",
    "scheme = fluentUnit.getSchemeControllerInstance()\n",
    "\n",
    "\n"
   ],
   "metadata": {
    "collapsed": false,
    "pycharm": {
     "name": "#%%\n"
    }
   }
  },
  {
   "cell_type": "code",
   "execution_count": null,
   "outputs": [],
   "source": [
    "#这是进行DU97计算的设置 瞬态 转捩模型 0.116\n",
    "\n",
    "result = scheme.execSchemeToString(r'(read-case \"C:/Users/27749/Desktop/python/20220112-DU97.cas\")')\n",
    "print(scheme.doMenuCommandToString(\"/mesh/check\"))\n",
    "#设置计算的材料\n",
    "#     scheme.doMenuCommand('define/materials/cc/air air yes ideal-gas  no no no no no no')\n",
    "#先打开需要写入数据的csv文件\n",
    "f = open('./DU97-W-300.csv'.format(i),'w',newline='',encoding='utf-8')\n",
    "csv_writer = csv.writer(f)\n",
    "\n",
    "csv_writer.writerow(['Attack_angle','Lift_coefficient'])\n",
    "\n",
    "for Attack_angle in range(0,20,3):\n",
    "\n",
    "\n",
    "    print('正在计算第{}个模型{}°攻角的数据'.format(i,Attack_angle))\n",
    "    #将计算的角度转化为弧度\n",
    "    Attack_angle_rad = Attack_angle*np.pi/180\n",
    "    \n",
    "    #设置计算湍流模型\n",
    "    \n",
    "    #设置边界条件\n",
    "    scheme.doMenuCommand('define/bc/set/vi  inlet () vmag  no 45 d0 no {} d1  no {}  quit'.format(np.cos(Attack_angle_rad),np.sin(Attack_angle_rad)))\n",
    "    #设置为瞬态计算 首先设置为一阶瞬态\n",
    "    scheme.doMenuCommand(\"define/models/u1o yes\")      \n",
    "\n",
    "\n",
    "\n",
    "\n",
    "    #设置离散格式\n",
    "    scheme.doMenuCommand('solve/set/disc/pre 11 mom 0 k 4 in 4 re 4 ome 4 ')\n",
    "    #设置warped\n",
    "    scheme.doMenuCommand('solve/set/wa enable yes yes ')#fast mode\n",
    "    #设置库朗数\n",
    "    scheme.doMenuCommand('solve/set/pvcontrols 20 0.75 0.75 ')\n",
    "\n",
    "\n",
    "    #初始化流场\n",
    "    if Attack_angle == 0:\n",
    "        scheme.doMenuCommand('/solve/initialize/compute-defaults/ vi inlet')\n",
    "        scheme.doMenuCommand('/solve/initialize/initialize-flow ok')\n",
    "\n",
    "\n",
    "    #给出计算步数以及步幅\n",
    "    scheme.doMenuCommand('solve/set/transient-controls/time-step-size 0.1')\n",
    "    scheme.doMenuCommand('/solve/dual-time-iterate 10  20')#这步执行后直接开始计算\n",
    "\n",
    "\n",
    "\n",
    "\n",
    "    #设置初始参考值 这个参考值只是影响最终的后处理 并不会影响计算过程\n",
    "    scheme.doMenuCommand('report/reference-values area 1 length 1 depth 1 pressure 101325')\n",
    "    scheme.doMenuCommand('report/reference-values/compute pff far-field')    \n",
    "\n",
    "    #计算的输出的力的角度是可以改变的\n",
    "    forces = scheme.doMenuCommandToString('/report/forces/wall-forces yes  {} {} no'.format(-np.sin(Attack_angle_rad),np.cos(Attack_angle_rad)))\n",
    "    #先将文件存储为txt文件 方便最终的读取特定行\n",
    "    with open('./Naca0012_data.txt','w') as fp:\n",
    "        fp.write(forces)\n",
    "    #第十二行是存储力的数据的行 并且将原来的字符串来利用空格分隔  \n",
    "    data = linecache.getline('./Naca0012_data.txt',12).split()\n",
    "    #需要将前面进行处理的文件进行清除 否则一直存在一个缓存数据 导致每次获取的数据都是一样的\n",
    "    linecache.clearcache()\n",
    "\n",
    "    row_data = [Attack_angle,data[4]]\n",
    "    #将最终的数据写入csv文件\n",
    "    csv_writer.writerow(row_data)\n",
    "f.close()\n",
    "\n",
    "print('计算完毕')"
   ],
   "metadata": {
    "collapsed": false,
    "pycharm": {
     "name": "#%%\n"
    }
   }
  }
 ],
 "metadata": {
  "kernelspec": {
   "display_name": "Python 3",
   "language": "python",
   "name": "python3"
  },
  "language_info": {
   "codemirror_mode": {
    "name": "ipython",
    "version": 3
   },
   "file_extension": ".py",
   "mimetype": "text/x-python",
   "name": "python",
   "nbconvert_exporter": "python",
   "pygments_lexer": "ipython3",
   "version": "3.8.5"
  },
  "toc": {
   "base_numbering": 1,
   "nav_menu": {},
   "number_sections": true,
   "sideBar": true,
   "skip_h1_title": false,
   "title_cell": "Table of Contents",
   "title_sidebar": "Contents",
   "toc_cell": false,
   "toc_position": {},
   "toc_section_display": true,
   "toc_window_display": false
  },
  "pycharm": {
   "stem_cell": {
    "cell_type": "raw",
    "source": [
     "\n"
    ],
    "metadata": {
     "collapsed": false
    }
   }
  }
 },
 "nbformat": 4,
 "nbformat_minor": 4
}